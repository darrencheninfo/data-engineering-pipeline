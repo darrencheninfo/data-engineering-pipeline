{
 "cells": [
  {
   "cell_type": "markdown",
   "metadata": {},
   "source": [
    "## What this does  \n",
    "    Selects all columns from adss_data_part1.\n",
    "    Joins with beale_decoder to replace numeric beale codes with beale_label.\n",
    "    Uses LEFT JOIN to keep all records from adss_data_part1, even if they don’t have a match in beale_decoder.\n",
    "    Commits the view creation to MySQL.\n"
   ]
  },
  {
   "cell_type": "code",
   "execution_count": 39,
   "metadata": {},
   "outputs": [],
   "source": [
    "# function to execute SQL queries\n",
    "def run_query(query):\n",
    "    # try: (indent next for error handling)\n",
    "    cursor = conn.cursor()\n",
    "    cursor.execute(query)\n",
    "    results = cursor.fetchall()\n",
    "    for row in results:\n",
    "        print(row)\n"
   ]
  },
  {
   "cell_type": "code",
   "execution_count": 36,
   "metadata": {},
   "outputs": [],
   "source": [
    "# Function to connect to the database\n",
    "def connect_to_db(database_name):\n",
    "    db_config = {\n",
    "        \"host\": \"mysqldchen.mysql.database.azure.com\",\n",
    "        \"user\": \"dchenAdmin\",\n",
    "        \"password\": \"507password!\",\n",
    "        \"database\": database_name,\n",
    "        \"port\": 3306\n",
    "    }\n",
    "    return mysql.connector.connect(**db_config)"
   ]
  },
  {
   "cell_type": "markdown",
   "metadata": {},
   "source": [
    "add foreign key to adss_data_part1\n"
   ]
  },
  {
   "cell_type": "code",
   "execution_count": null,
   "metadata": {},
   "outputs": [],
   "source": [
    "import mysql.connector\n",
    "\n",
    "# Function to connect to the MySQL database\n",
    "def connect_to_db(database_name):\n",
    "    return mysql.connector.connect(\n",
    "        host=\"mysqldchen.mysql.database.azure.com\",\n",
    "        user=\"dchenAdmin\",\n",
    "        password=\"507password!\",\n",
    "        database=database_name,\n",
    "        port=3306\n",
    "    )\n",
    "\n",
    "# Function to execute SQL queries\n",
    "def run_query(query):\n",
    "    conn = connect_to_db(\"icpsr_03088\")\n",
    "    cursor = conn.cursor()\n",
    "    \n",
    "    cursor.execute(query)\n",
    "    conn.commit()\n",
    "\n",
    "    cursor.close()\n",
    "    conn.close()\n",
    "\n",
    "# Run SQL commands separately\n",
    "conn = connect_to_db(\"icpsr_03088\")\n",
    "cursor = conn.cursor()\n",
    "\n",
    "# Ensure beale column is indexed\n",
    "# cursor.execute(\"ALTER TABLE adss_data_part1 ADD INDEX idx_beale (beale);\")import mysql.connector\n",
    "\n",
    "# Function to create a view for unique facid and count of cases\n",
    "def create_facid_case_count_view():\n",
    "    try:\n",
    "        # Connect to the MySQL database\n",
    "        conn = mysql.connector.connect(\n",
    "            host=\"mysqldchen.mysql.database.azure.com\",\n",
    "            user=\"dchenAdmin\",\n",
    "            password=\"507password!\",\n",
    "            database=\"icpsr_03088\",\n",
    "            port=3306\n",
    "        )\n",
    "\n",
    "        cursor = conn.cursor()\n",
    "        \n",
    "        # SQL query to create or replace the view\n",
    "        query = \"\"\"\n",
    "        CREATE OR REPLACE VIEW facid_case_count_view AS\n",
    "        SELECT \n",
    "            facid, \n",
    "            COUNT(caseid) AS case_count\n",
    "        FROM adss_data_part1\n",
    "        GROUP BY facid;\n",
    "        \"\"\"\n",
    "        \n",
    "        # Execute the query\n",
    "        cursor.execute(query)\n",
    "        conn.commit()\n",
    "\n",
    "        print(\"✅ View 'facid_case_count_view' created successfully.\")\n",
    "\n",
    "    except mysql.connector.Error as e:\n",
    "        print(f\"❌ Error: {e}\")\n",
    "    \n",
    "    finally:\n",
    "        # Close the cursor and connection\n",
    "        if cursor:\n",
    "            cursor.close()\n",
    "        if conn:\n",
    "            conn.close()\n",
    "\n",
    "# Run the function\n",
    "create_facid_case_count_view()\n"
   ]
  },
  {
   "cell_type": "code",
   "execution_count": 19,
   "metadata": {},
   "outputs": [
    {
     "name": "stdout",
     "output_type": "stream",
     "text": [
      "✅ stored procedure 'decode_yes_no' created successfully.\n"
     ]
    }
   ],
   "source": [
    "# SQL Query to create stored procedure to decode 1 as yes and 2 as no\n",
    "query = \"\"\"\n",
    "DELIMITER //\n",
    "\n",
    "CREATE PROCEDURE decode_yes_no(IN input_value INT, OUT decoded_value VARCHAR(3))\n",
    "BEGIN\n",
    "    SET decoded_value = \n",
    "        CASE \n",
    "            WHEN input_value = 1 THEN 'Yes'\n",
    "            WHEN input_value = 2 THEN 'No'\n",
    "            ELSE 'Unknown'\n",
    "        END;\n",
    "END //\n",
    "\n",
    "DELIMITER ;\n",
    "\n",
    "\"\"\"\n",
    "\n",
    "# Run the query using the existing function\n",
    "run_query(query)\n",
    "\n",
    "print(\"✅ stored procedure 'decode_yes_no' created successfully.\")"
   ]
  },
  {
   "cell_type": "code",
   "execution_count": 21,
   "metadata": {},
   "outputs": [
    {
     "name": "stdout",
     "output_type": "stream",
     "text": [
      "✅ View 'adss_data_part1_simplified' created successfully.\n"
     ]
    }
   ],
   "source": [
    "# call stored procedure to decode yes no values\n",
    "\n",
    "query = \"\"\"\n",
    "SET @decoded_b1b1 = NULL;\n",
    "CALL decode_yes_no(1, @decoded_b1b1);  -- Replace 1 with actual column value\n",
    "SELECT @decoded_b1b1;  -- Retrieve the decoded value\n",
    "\n",
    "\"\"\"\n",
    "\n",
    "# Run the query using the existing function\n",
    "run_query(query)\n",
    "\n",
    "print(\"✅ 'b1b1' labeled successfully.\")\n"
   ]
  },
  {
   "cell_type": "code",
   "execution_count": 22,
   "metadata": {},
   "outputs": [
    {
     "name": "stdout",
     "output_type": "stream",
     "text": [
      "✅ 'function decode_yes_no' created successfully.\n"
     ]
    }
   ],
   "source": [
    "#  Use a Stored Function to Decode the 'Column\n",
    "query = \"\"\"\n",
    "DELIMITER //\n",
    "\n",
    "CREATE FUNCTION decode_yes_no(input_value INT) RETURNS VARCHAR(3)\n",
    "DETERMINISTIC\n",
    "BEGIN\n",
    "    RETURN CASE \n",
    "        WHEN input_value = 1 THEN 'Yes'\n",
    "        WHEN input_value = 2 THEN 'No'\n",
    "        ELSE 'Unknown'\n",
    "    END;\n",
    "END //\n",
    "\n",
    "DELIMITER ;\n",
    "\"\"\"\n",
    "\n",
    "# Run the query using the existing function\n",
    "run_query(query)\n",
    "\n",
    "print(\"✅ 'function decode_yes_no' created successfully.\")"
   ]
  },
  {
   "cell_type": "code",
   "execution_count": 25,
   "metadata": {},
   "outputs": [
    {
     "name": "stdout",
     "output_type": "stream",
     "text": [
      "✅ View 'adss_data_decoded' created successfully with beale_labeled.\n"
     ]
    }
   ],
   "source": [
    "# SQL query to create the view with beale_labeled\n",
    "query = \"\"\"\n",
    "CREATE OR REPLACE VIEW adss_data_decoded AS\n",
    "SELECT \n",
    "    a.caseid, \n",
    "    a.facid, \n",
    "    a.b1b1 AS original_b1b1,\n",
    "    decode_yes_no(a.b1b1) AS b1b1_detox_offered_labeled,\n",
    "    a.b1c1 AS original_b1c1,\n",
    "    decode_yes_no(a.b1c1) AS b1c1_rehab_offered_labeled,\n",
    "    b.beale_label AS beale_labeled\n",
    "FROM adss_data_part1 a\n",
    "LEFT JOIN beale_decoder b ON a.beale = b.beale_code;\n",
    "\"\"\"\n",
    "\n",
    "# Run the query using the existing function\n",
    "run_query(query)\n",
    "\n",
    "print(\"✅ View 'adss_data_decoded' created successfully with beale_labeled.\")\n"
   ]
  },
  {
   "cell_type": "markdown",
   "metadata": {},
   "source": [
    "ADSS PART3 DRUG CODE LABELING FUNCTION "
   ]
  },
  {
   "cell_type": "code",
   "execution_count": 34,
   "metadata": {},
   "outputs": [
    {
     "name": "stdout",
     "output_type": "stream",
     "text": [
      "✅ Function 'decode_substance_p3_a57' created successfully .\n"
     ]
    }
   ],
   "source": [
    "# SQL query to create the view with beale_labeled\n",
    "query = \"\"\"\n",
    "DELIMITER //\n",
    "\n",
    "CREATE FUNCTION decode_substance_p3_a57(input_value INT) RETURNS VARCHAR(50)\n",
    "DETERMINISTIC\n",
    "BEGIN\n",
    "    RETURN CASE \n",
    "        WHEN input_value = 0 THEN 'NO SUBSTANCE OF CHOICE'\n",
    "        WHEN input_value = 40 THEN 'CRACK'\n",
    "        WHEN input_value = 41 THEN 'COCAINE'\n",
    "        WHEN input_value = 42 THEN 'HEROIN'\n",
    "        WHEN input_value = 43 THEN 'METHADONE-NON-TX'\n",
    "        WHEN input_value = 44 THEN 'OTHER OPIATES'\n",
    "        WHEN input_value = 45 THEN 'BARBITURATES'\n",
    "        WHEN input_value = 46 THEN 'BENZODIAZEPINES'\n",
    "        WHEN input_value = 47 THEN 'OTHER SEDATIVES/HYPNOTICS'\n",
    "        WHEN input_value = 48 THEN 'AMPHETAMINES'\n",
    "        WHEN input_value = 49 THEN 'MARIJUANA, HASHISH, THC'\n",
    "        WHEN input_value = 50 THEN 'HALLUCINOGENS'\n",
    "        WHEN input_value = 51 THEN 'INHALANTS'\n",
    "        WHEN input_value = 52 THEN 'OVER-THE-COUNTER'\n",
    "        WHEN input_value = 53 THEN 'ALCOHOL'\n",
    "        WHEN input_value = 54 THEN 'TOBACCO'\n",
    "        WHEN input_value = 55 THEN 'OTHER DRUG1'\n",
    "        WHEN input_value = 56 THEN 'OTHER DRUG2'\n",
    "        WHEN input_value = 96 THEN 'MULTIPLE DRUGS NAMED'\n",
    "        WHEN input_value = -7 THEN 'NOT ASCERTAINED'\n",
    "        ELSE 'UNKNOWN'\n",
    "    END;\n",
    "END //\n",
    "\n",
    "DELIMITER ;\n",
    "\n",
    "\"\"\"\n",
    "\n",
    "# Run the query using the existing function\n",
    "run_query(query)\n",
    "\n",
    "print(\"✅ Function 'decode_substance_p3_a57' created successfully .\")"
   ]
  },
  {
   "cell_type": "code",
   "execution_count": 41,
   "metadata": {},
   "outputs": [
    {
     "name": "stdout",
     "output_type": "stream",
     "text": [
      "✅ 'function A73 - REASON FOR DISCHARGE' created successfully.\n"
     ]
    }
   ],
   "source": [
    "# p3 a73 labeling function REASON FOR DISCHARGE \n",
    "query = \"\"\"\n",
    "DELIMITER //\n",
    "\n",
    "CREATE FUNCTION decode_reason_for_discharge(input_value INT) RETURNS VARCHAR(100)\n",
    "DETERMINISTIC\n",
    "BEGIN\n",
    "    RETURN CASE \n",
    "        WHEN input_value = 0 THEN 'CLIENT DECEASED'\n",
    "        WHEN input_value = 1 THEN 'COMPLETED PLANNED TREATMENT'\n",
    "        WHEN input_value = 2 THEN 'DIDN''T COMPLETE TX, REFERRED/TRANSFERRED'\n",
    "        WHEN input_value = 3 THEN 'DIDN''T COMPLETE TX, INSURANCE BENEFITS ENDED'\n",
    "        WHEN input_value = 4 THEN 'DIDN''T COMPLETE TX, NO PAYMENT SOURCE'\n",
    "        WHEN input_value = 5 THEN 'DIDN''T COMPLETE TX BY ADMINISTRATION CHOICE'\n",
    "        WHEN input_value = 6 THEN 'DIDN''T COMPLETE TX BY CLIENT CHOICE'\n",
    "        WHEN input_value = 7 THEN 'DIDN''T COMPLETE TX, INCARCERATED'\n",
    "        WHEN input_value = 8 THEN 'DIDN''T COMPLETE TX, NOT OTHERWISE SPECIFIED'\n",
    "        WHEN input_value = 9 THEN 'PENDING COMPLETION OF ASSIGNMENT'\n",
    "        WHEN input_value = 10 THEN 'MUTUAL AGREEMENT TO TERMINATE'\n",
    "        WHEN input_value = 11 THEN 'LAWYER TERMINATED THERAPY, COURT TERMINATION'\n",
    "        WHEN input_value = 12 THEN 'TREATMENT NEVER STARTED'\n",
    "        WHEN input_value = 13 THEN 'PROBLEMS WITH TRANSPORTATION'\n",
    "        WHEN input_value = 14 THEN 'EVALUATION ONLY'\n",
    "        WHEN input_value = 15 THEN 'ARRESTED'\n",
    "        WHEN input_value = 16 THEN 'MOVED AWAY'\n",
    "        WHEN input_value = 17 THEN 'DROPOUT, PHYSICAL ILLNESS (E.G., CANCER)'\n",
    "        WHEN input_value = 18 THEN 'REFERRED TO NON-SA TREATMENT'\n",
    "        WHEN input_value = 19 THEN 'MEDICALLY DISCHARGE AFTERCARE'\n",
    "        WHEN input_value = 20 THEN 'HAVING A BABY'\n",
    "        WHEN input_value = -8 THEN 'INAPPLICABLE'\n",
    "        WHEN input_value = -9 THEN 'INAPPLICABLE'\n",
    "        WHEN input_value = -7 THEN 'NOT ASCERTAINED'\n",
    "        ELSE 'UNKNOWN'\n",
    "    END;\n",
    "END //\n",
    "\n",
    "DELIMITER ;\n",
    "\n",
    "\"\"\"\n",
    "\n",
    "# Run the query using the existing function\n",
    "run_query(query)\n",
    "\n",
    "print(\"✅ 'function A73 - REASON FOR DISCHARGE' created successfully.\")"
   ]
  },
  {
   "cell_type": "code",
   "execution_count": 42,
   "metadata": {},
   "outputs": [
    {
     "name": "stdout",
     "output_type": "stream",
     "text": [
      "✅ 'function A74A - PRIMARY DIAGNOSIS' created successfully.\n"
     ]
    }
   ],
   "source": [
    "# p3 a74a labeling function PRIMARY DIAGNOSIS \n",
    "query = \"\"\"DELIMITER //\n",
    "\n",
    "CREATE FUNCTION decode_primary_diagnosis(input_value INT) RETURNS VARCHAR(100)\n",
    "DETERMINISTIC\n",
    "BEGIN\n",
    "    RETURN CASE \n",
    "        WHEN input_value = 0 THEN 'NO DIAGNOSIS'\n",
    "        WHEN input_value = 1 THEN 'ALCOHOL-INDUCED DISORDER'\n",
    "        WHEN input_value = 2 THEN 'SUBSTANCE-INDUCED DISORDER'\n",
    "        WHEN input_value = 3 THEN 'ALCOHOL INTOXICATION'\n",
    "        WHEN input_value = 4 THEN 'ALCOHOL DEPENDENCE'\n",
    "        WHEN input_value = 5 THEN 'OPIOID DEPENDENCE'\n",
    "        WHEN input_value = 6 THEN 'COCAINE DEPENDENCE'\n",
    "        WHEN input_value = 7 THEN 'CANNABIS DEPENDENCE'\n",
    "        WHEN input_value = 8 THEN 'OTHER SUBSTANCE DEPENDENCE'\n",
    "        WHEN input_value = 9 THEN 'ALCOHOL ABUSE'\n",
    "        WHEN input_value = 10 THEN 'CANNABIS ABUSE'\n",
    "        WHEN input_value = 11 THEN 'OTHER SUBSTANCE ABUSE'\n",
    "        WHEN input_value = 12 THEN 'OPIOID ABUSE'\n",
    "        WHEN input_value = 13 THEN 'COCAINE ABUSE'\n",
    "        WHEN input_value = 14 THEN 'ANXIETY DISORDERS'\n",
    "        WHEN input_value = 15 THEN 'DEPRESSIVE DISORDERS'\n",
    "        WHEN input_value = 16 THEN 'SCHIZOPHRENIA/OTHER PSYCHOTIC DISORDERS'\n",
    "        WHEN input_value = 17 THEN 'BIPOLAR DISORDERS'\n",
    "        WHEN input_value = 18 THEN 'ATTENTION DEFICIT/DISRUPTIVE BEHAVIOR DISORDER'\n",
    "        WHEN input_value = 19 THEN 'OTHER MENTAL HEALTH CONDITION'\n",
    "        WHEN input_value = 20 THEN 'OTHER CONDITION'\n",
    "        WHEN input_value = -9 THEN 'NOT APPLICABLE'\n",
    "        ELSE 'UNKNOWN'\n",
    "    END;\n",
    "END //\n",
    "\n",
    "DELIMITER ;\n",
    "\"\"\"\n",
    "\n",
    "# Run the query using the existing function\n",
    "run_query(query)\n",
    "\n",
    "print(\"✅ 'function A74A - PRIMARY DIAGNOSIS' created successfully.\")"
   ]
  }
 ],
 "metadata": {
  "kernelspec": {
   "display_name": "base",
   "language": "python",
   "name": "python3"
  },
  "language_info": {
   "codemirror_mode": {
    "name": "ipython",
    "version": 3
   },
   "file_extension": ".py",
   "mimetype": "text/x-python",
   "name": "python",
   "nbconvert_exporter": "python",
   "pygments_lexer": "ipython3",
   "version": "3.11.7"
  }
 },
 "nbformat": 4,
 "nbformat_minor": 2
}
